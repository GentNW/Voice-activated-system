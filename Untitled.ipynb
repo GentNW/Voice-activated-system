{
 "cells": [
   ],
  },
  {
   "cell_type": "code",
   "execution_count": null,
   "id": "093cc642",
   "metadata": {},
   "outputs": [],
   "source": [
    "!pip install pybluez"
   ]
  },
  {
   "cell_type": "code",
   "execution_count": null,
   "id": "98d964d9",
   "metadata": {},
   "outputs": [],
   "source": [
    "import bluetooth\n",
    "nearby_devices = bluetooth.discover_devices(lookup_names=True)\n",
    "print(\"found %d devices\" % len(nearby_devices))\n",
    "for addr, name in nearby_devices:\n",
    "     print(\" %s - %s\" % (addr, name))"
   ]
  },
  {
   "cell_type": "code",
   "execution_count": null,
   "id": "ed571265",
   "metadata": {},
   "outputs": [],
   "source": []
  },
  {
   "cell_type": "code",
   "execution_count": null,
   "id": "0cf18728",
   "metadata": {},
   "outputs": [],
   "source": []
  }
 ],
 "metadata": {
  "kernelspec": {
   "display_name": "Python 3 (ipykernel)",
   "language": "python",
   "name": "python3"
  },
  "language_info": {
   "codemirror_mode": {
    "name": "ipython",
    "version": 3
   },
   "file_extension": ".py",
   "mimetype": "text/x-python",
   "name": "python",
   "nbconvert_exporter": "python",
   "pygments_lexer": "ipython3",
   "version": "3.9.13"
  }
 },
 "nbformat": 4,
 "nbformat_minor": 5
}
