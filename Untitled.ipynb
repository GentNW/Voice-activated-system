{
 "cells": [
  {
   "cell_type": "code",
   "execution_count": 8,
   "id": "80ca7399",
   "metadata": {
    "scrolled": true
   },
   "outputs": [
    {
     "ename": "SyntaxError",
     "evalue": "invalid syntax (2232069628.py, line 1)",
     "output_type": "error",
     "traceback": [
      "\u001b[1;36m  File \u001b[1;32m\"C:\\Users\\khira\\AppData\\Local\\Temp\\ipykernel_8472\\2232069628.py\"\u001b[1;36m, line \u001b[1;32m1\u001b[0m\n\u001b[1;33m    python -m pip install bluetooth libbluetooth-dev\u001b[0m\n\u001b[1;37m              ^\u001b[0m\n\u001b[1;31mSyntaxError\u001b[0m\u001b[1;31m:\u001b[0m invalid syntax\n"
     ]
    }
   ],
   "source": [
    "python -m pip "
   ]
  },
  {
   "cell_type": "code",
   "execution_count": 1,
   "id": "9e95f870",
   "metadata": {
    "collapsed": true
   },
   "outputs": [
    {
     "name": "stdout",
     "output_type": "stream",
     "text": [
      "Defaulting to user installation because normal site-packages is not writeable\n"
     ]
    },
    {
     "name": "stderr",
     "output_type": "stream",
     "text": [
      "ERROR: Could not find a version that satisfies the requirement bluetooth (from versions: none)\n",
      "ERROR: No matching distribution found for bluetooth\n"
     ]
    }
   ],
   "source": [
    "!pip install bluetooth libbluetooth-dev"
   ]
  },
  {
   "cell_type": "code",
   "execution_count": 2,
   "id": "83bbaf79",
   "metadata": {
    "collapsed": true
   },
   "outputs": [
    {
     "name": "stdout",
     "output_type": "stream",
     "text": [
      "Defaulting to user installation because normal site-packages is not writeable\n",
      "Collecting pybluez\n",
      "  Using cached PyBluez-0.23.tar.gz (97 kB)\n",
      "  Preparing metadata (setup.py): started\n",
      "  Preparing metadata (setup.py): finished with status 'error'\n"
     ]
    },
    {
     "name": "stderr",
     "output_type": "stream",
     "text": [
      "  error: subprocess-exited-with-error\n",
      "  \n",
      "  python setup.py egg_info did not run successfully.\n",
      "  exit code: 1\n",
      "  \n",
      "  [1 lines of output]\n",
      "  error in PyBluez setup command: use_2to3 is invalid.\n",
      "  [end of output]\n",
      "  \n",
      "  note: This error originates from a subprocess, and is likely not a problem with pip.\n",
      "error: metadata-generation-failed\n",
      "\n",
      "Encountered error while generating package metadata.\n",
      "\n",
      "See above for output.\n",
      "\n",
      "note: This is an issue with the package mentioned above, not pip.\n",
      "hint: See above for details.\n"
     ]
    }
   ],
   "source": [
    "!pip install pybluez"
   ]
  },
  {
   "cell_type": "code",
   "execution_count": 4,
   "id": "093cc642",
   "metadata": {
    "collapsed": true
   },
   "outputs": [
    {
     "ename": "ModuleNotFoundError",
     "evalue": "No module named 'bluetooth'",
     "output_type": "error",
     "traceback": [
      "\u001b[1;31m---------------------------------------------------------------------------\u001b[0m",
      "\u001b[1;31mModuleNotFoundError\u001b[0m                       Traceback (most recent call last)",
      "\u001b[1;32m~\\AppData\\Local\\Temp\\ipykernel_8472\\3488373349.py\u001b[0m in \u001b[0;36m<module>\u001b[1;34m\u001b[0m\n\u001b[1;32m----> 1\u001b[1;33m \u001b[1;32mimport\u001b[0m \u001b[0mbluetooth\u001b[0m\u001b[1;33m\u001b[0m\u001b[1;33m\u001b[0m\u001b[0m\n\u001b[0m",
      "\u001b[1;31mModuleNotFoundError\u001b[0m: No module named 'bluetooth'"
     ]
    }
   ],
   "source": [
    "import bluetooth"
   ]
  },
  {
   "cell_type": "code",
   "execution_count": null,
   "id": "65643351",
   "metadata": {},
   "outputs": [],
   "source": [
    "print(\"Scanning for bluetooth devices:\")\n",
    "nearby_devices = bluetooth.discover_devices(lookup_names=True)\n",
    "devices_num = len(nearby_devices)\n",
    "print(\"found %d devices\" % len(nearby_devices))\n",
    "for index ,addr, name in nearby_devices:\n",
    "    print(\"\\n\")\n",
    "    print(\"Device:\")\n",
    "    print(\"index: %s\"%(index))\n",
    "    print(\"Device Name: %s\" % (name))\n",
    "    print(\"Device MAC Address: %s\" % (addr))\n",
    "    print(\"\\n\")\n",
    "return\n",
    "\n",
    "f2=open(\"list.txt\",\"a\")\n",
    "      f2.write((index)\"is the user index\")\n",
    "      f2.write((name)\"is the user name\")\n",
    "      f2.write((addr)\"is the user mac address\")\n",
    "      f2.close()"
   ]
  }
 ],
 "metadata": {
  "kernelspec": {
   "display_name": "Python 3 (ipykernel)",
   "language": "python",
   "name": "python3"
  },
  "language_info": {
   "codemirror_mode": {
    "name": "ipython",
    "version": 3
   },
   "file_extension": ".py",
   "mimetype": "text/x-python",
   "name": "python",
   "nbconvert_exporter": "python",
   "pygments_lexer": "ipython3",
   "version": "3.9.13"
  }
 },
 "nbformat": 4,
 "nbformat_minor": 5
}
