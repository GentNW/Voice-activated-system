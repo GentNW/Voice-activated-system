{
 "cells": [
  {
   "cell_type": "code",
   "execution_count": 1,
   "id": "b51f73d6-b7a5-43b5-ace7-ae59670496a4",
   "metadata": {
    "tags": []
   },
   "outputs": [
    {
     "name": "stdout",
     "output_type": "stream",
     "text": [
      "Requirement already satisfied: mediapipe in d:\\software\\anaconda3\\lib\\site-packages (0.9.0)\n",
      "Requirement already satisfied: numpy in d:\\software\\anaconda3\\lib\\site-packages (from mediapipe) (1.20.3)\n",
      "Requirement already satisfied: absl-py in d:\\software\\anaconda3\\lib\\site-packages (from mediapipe) (1.3.0)\n",
      "Requirement already satisfied: attrs>=19.1.0 in d:\\software\\anaconda3\\lib\\site-packages (from mediapipe) (21.2.0)\n",
      "Requirement already satisfied: protobuf<4,>=3.11 in d:\\software\\anaconda3\\lib\\site-packages (from mediapipe) (3.20.3)\n",
      "Requirement already satisfied: flatbuffers>=2.0 in d:\\software\\anaconda3\\lib\\site-packages (from mediapipe) (22.10.26)\n",
      "Requirement already satisfied: opencv-contrib-python in d:\\software\\anaconda3\\lib\\site-packages (from mediapipe) (4.6.0.66)\n",
      "Requirement already satisfied: matplotlib in d:\\software\\anaconda3\\lib\\site-packages (from mediapipe) (3.4.3)\n",
      "Requirement already satisfied: pyparsing>=2.2.1 in d:\\software\\anaconda3\\lib\\site-packages (from matplotlib->mediapipe) (3.0.4)\n",
      "Requirement already satisfied: cycler>=0.10 in d:\\software\\anaconda3\\lib\\site-packages (from matplotlib->mediapipe) (0.10.0)\n",
      "Requirement already satisfied: kiwisolver>=1.0.1 in d:\\software\\anaconda3\\lib\\site-packages (from matplotlib->mediapipe) (1.3.1)\n",
      "Requirement already satisfied: pillow>=6.2.0 in d:\\software\\anaconda3\\lib\\site-packages (from matplotlib->mediapipe) (8.4.0)\n",
      "Requirement already satisfied: python-dateutil>=2.7 in d:\\software\\anaconda3\\lib\\site-packages (from matplotlib->mediapipe) (2.8.2)\n",
      "Requirement already satisfied: six in d:\\software\\anaconda3\\lib\\site-packages (from cycler>=0.10->matplotlib->mediapipe) (1.16.0)\n",
      "Requirement already satisfied: dollarpy in d:\\software\\anaconda3\\lib\\site-packages (0.1.1)\n"
     ]
    }
   ],
   "source": [
    "!pip install mediapipe\n",
    "!pip install dollarpy"
   ]
  },
  {
   "cell_type": "code",
   "execution_count": 10,
   "id": "9c70279d-492d-4f80-bd02-2a76d18f7e83",
   "metadata": {},
   "outputs": [],
   "source": [
    "import mediapipe as mp\n",
    "import cv2\n",
    "import csv\n",
    "from dollarpy import Point, Recognizer , Template\n",
    "import os\n",
    "import numpy as np\n",
    "import matplotlib.pyplot as plt"
   ]
  },
  {
   "cell_type": "code",
   "execution_count": 11,
   "id": "ca9d60d4-10f0-4719-8020-09ebf72c0c68",
   "metadata": {},
   "outputs": [],
   "source": [
    "mp_holistic = mp.solutions.holistic\n",
    "mp_drawing = mp.solutions.drawing_utils\n",
    "mp_drawing_styles = mp.solutions.drawing_styles"
   ]
  },
  {
   "cell_type": "code",
   "execution_count": 12,
   "id": "661fba7f-92c2-47cd-9afd-bf9965ba21dc",
   "metadata": {},
   "outputs": [],
   "source": [
    "def getPoints(videoPath) :\n",
    "  left_leg      =[]\n",
    "  right_leg     =[]\n",
    "  \n",
    "  face          =[]\n",
    "  #left_wrist    =[]\n",
    "  #right_wrist   =[]\n",
    "\n",
    "  \n",
    "  left_arm    =[]\n",
    "  right_arm   =[]\n",
    "  \n",
    "  left_shoulder =[]\n",
    "  right_shoulder=[]\n",
    "\n",
    "  #left_elbow    =[]\n",
    "  #right_elbow   =[]\n",
    "\n",
    "  #left_hip      =[]\n",
    "  #right_hip     =[]\n",
    "\n",
    "\n",
    "\n",
    "  points        =[]\n",
    "  with mp_holistic.Holistic(static_image_mode=True, min_detection_confidence = 0.7) as Holistic:\n",
    "    video = cv2.VideoCapture(videoPath)\n",
    "    while video.isOpened():\n",
    "      ret , frame = video.read()\n",
    "      if ret == True:\n",
    "        image = cv2.cvtColor(frame,cv2.COLOR_BGR2RGB)\n",
    "        image.flags.writeable = False\n",
    "        results = Holistic.process(cv2.flip(image,1))\n",
    "        if results.pose_landmarks:\n",
    "         \n",
    "          \n",
    "          face.append(Point(results.pose_landmarks.landmark[mp_holistic.PoseLandmark.RIGHT_EAR].x,results.pose_landmarks.landmark[mp_holistic.PoseLandmark.RIGHT_EAR].y,2))\n",
    "          face.append(Point(results.pose_landmarks.landmark[mp_holistic.PoseLandmark.NOSE].x,results.pose_landmarks.landmark[mp_holistic.PoseLandmark.NOSE].y,2))\n",
    "          #arm includes shoulder, elbow and wrist\n",
    "          #left_arm.append(Point(results.pose_landmarks.landmark[mp_holistic.PoseLandmark.LEFT_SHOULDER].x,results.pose_landmarks.landmark[mp_holistic.PoseLandmark.LEFT_SHOULDER].y,2))\n",
    "          #left_arm.append(Point(results.pose_landmarks.landmark[mp_holistic.PoseLandmark.LEFT_ELBOW].x,results.pose_landmarks.landmark[mp_holistic.PoseLandmark.LEFT_ELBOW].y,2))\n",
    "          #left_arm.append(Point(results.pose_landmarks.landmark[mp_holistic.PoseLandmark.LEFT_WRIST].x,results.pose_landmarks.landmark[mp_holistic.PoseLandmark.LEFT_WRIST].y,2))\n",
    "\n",
    "          #right_arm.append(Point(results.pose_landmarks.landmark[mp_holistic.PoseLandmark.RIGHT_SHOULDER].x,results.pose_landmarks.landmark[mp_holistic.PoseLandmark.RIGHT_SHOULDER].y,2))\n",
    "          #right_arm.append(Point(results.pose_landmarks.landmark[mp_holistic.PoseLandmark.RIGHT_ELBOW].x,results.pose_landmarks.landmark[mp_holistic.PoseLandmark.RIGHT_ELBOW].y,2))\n",
    "          #right_arm.append(Point(results.pose_landmarks.landmark[mp_holistic.PoseLandmark.RIGHT_WRIST].x,results.pose_landmarks.landmark[mp_holistic.PoseLandmark.RIGHT_WRIST].y,2))\n",
    "      else:\n",
    "        break\n",
    "    points = face\n",
    "    return points"
   ]
  },
  {
   "cell_type": "code",
   "execution_count": 13,
   "id": "1757122d-654b-4343-a3ea-73227276f1f5",
   "metadata": {},
   "outputs": [
    {
     "name": "stdout",
     "output_type": "stream",
     "text": [
      "[[(0.3284436762332916, 0.4504687786102295), stroke 2, (0.4403621554374695, 0.49141788482666016), stroke 2, (0.3320442736148834, 0.42473435401916504), stroke 2, (0.44288042187690735, 0.45510339736938477), stroke 2, (0.334504097700119, 0.4229240417480469), stroke 2, (0.45352619886398315, 0.4503716230392456), stroke 2, (0.33413439989089966, 0.42390871047973633), stroke 2, (0.4525851905345917, 0.449588418006897), stroke 2, (0.3356632888317108, 0.4265139102935791), stroke 2, (0.45567408204078674, 0.4532252550125122), stroke 2, (0.3337429165840149, 0.4220411777496338), stroke 2, (0.4507172405719757, 0.452242374420166), stroke 2, (0.33403533697128296, 0.4260520935058594), stroke 2, (0.4503820538520813, 0.4518561363220215), stroke 2, (0.33314651250839233, 0.4275040626525879), stroke 2, (0.45227450132369995, 0.45156335830688477), stroke 2, (0.3347877264022827, 0.4290199279785156), stroke 2, (0.45586469769477844, 0.4566924571990967), stroke 2, (0.33409208059310913, 0.43004488945007324), stroke 2, (0.4540621042251587, 0.45993876457214355), stroke 2], [(0.34823906421661377, 0.4494591951370239), stroke 2, (0.4719042479991913, 0.4900747835636139), stroke 2, (0.3481300473213196, 0.4463002681732178), stroke 2, (0.4719019830226898, 0.48525938391685486), stroke 2, (0.3397926092147827, 0.4486798048019409), stroke 2, (0.452547550201416, 0.479806512594223), stroke 2, (0.3298119306564331, 0.4068920612335205), stroke 2, (0.39176318049430847, 0.4756591320037842), stroke 2, (0.3293902575969696, 0.4037749767303467), stroke 2, (0.3975273072719574, 0.47221362590789795), stroke 2, (0.3289012014865875, 0.4054412841796875), stroke 2, (0.39524444937705994, 0.47611045837402344), stroke 2, (0.3334028124809265, 0.4114058017730713), stroke 2, (0.37915101647377014, 0.45916664600372314), stroke 2, (0.3361069858074188, 0.40676188468933105), stroke 2, (0.3841506242752075, 0.4539541006088257), stroke 2, (0.3348725140094757, 0.40764153003692627), stroke 2, (0.3802342414855957, 0.45718586444854736), stroke 2, (0.33041244745254517, 0.41088151931762695), stroke 2, (0.3851863741874695, 0.48283493518829346), stroke 2, (0.3353394865989685, 0.4147084951400757), stroke 2, (0.38278287649154663, 0.4554014205932617), stroke 2, (0.3465222120285034, 0.4462103843688965), stroke 2, (0.4968993067741394, 0.4740654230117798), stroke 2, (0.34714263677597046, 0.44233667850494385), stroke 2, (0.49648812413215637, 0.47541236877441406), stroke 2, (0.34569060802459717, 0.4474489688873291), stroke 2, (0.4989652633666992, 0.4716717004776001), stroke 2, (0.35689061880111694, 0.4341617822647095), stroke 2, (0.5088120102882385, 0.447485089302063), stroke 2, (0.3572848439216614, 0.4323941469192505), stroke 2, (0.510651707649231, 0.44481587409973145), stroke 2, (0.35742247104644775, 0.4380357265472412), stroke 2, (0.5109989643096924, 0.45645463466644287), stroke 2, (0.3566541075706482, 0.4399985074996948), stroke 2, (0.5105673670768738, 0.4553426504135132), stroke 2, (0.3595661520957947, 0.4400444030761719), stroke 2, (0.5135767459869385, 0.4432492256164551), stroke 2, (0.3611295819282532, 0.45438432693481445), stroke 2, (0.5226179957389832, 0.45938587188720703), stroke 2, (0.36128073930740356, 0.44611692428588867), stroke 2, (0.5171722769737244, 0.45417094230651855), stroke 2, (0.36080920696258545, 0.4446835517883301), stroke 2, (0.5162445306777954, 0.44767165184020996), stroke 2, (0.34988996386528015, 0.4406602382659912), stroke 2, (0.4952305555343628, 0.4572007656097412), stroke 2, (0.35189029574394226, 0.4431612491607666), stroke 2, (0.49453574419021606, 0.4641355276107788), stroke 2, (0.34579867124557495, 0.4461324214935303), stroke 2, (0.4920279383659363, 0.45715761184692383), stroke 2, (0.3481108546257019, 0.4456150531768799), stroke 2, (0.4927411377429962, 0.46068012714385986), stroke 2, (0.3406369388103485, 0.4302961826324463), stroke 2, (0.46405836939811707, 0.45780742168426514), stroke 2, (0.34443143010139465, 0.423443078994751), stroke 2, (0.4640561044216156, 0.4563378095626831), stroke 2, (0.340610146522522, 0.4392507076263428), stroke 2, (0.4643145799636841, 0.4596918821334839), stroke 2, (0.33710160851478577, 0.44052135944366455), stroke 2, (0.45812562108039856, 0.48299193382263184), stroke 2, (0.3363901972770691, 0.437985897064209), stroke 2, (0.4630516767501831, 0.484592467546463), stroke 2, (0.3362807631492615, 0.4396023750305176), stroke 2, (0.4619109332561493, 0.48430171608924866), stroke 2, (0.3353303372859955, 0.43735241889953613), stroke 2, (0.46230363845825195, 0.486483097076416), stroke 2], [(0.34420326352119446, 0.44036316871643066), stroke 2, (0.4559745788574219, 0.48744556307792664), stroke 2, (0.3437690734863281, 0.4376688003540039), stroke 2, (0.4560258686542511, 0.48059606552124023), stroke 2, (0.3442099690437317, 0.42357146739959717), stroke 2, (0.4642373025417328, 0.4708973169326782), stroke 2, (0.3553674817085266, 0.4173851013183594), stroke 2, (0.4828767478466034, 0.46911919116973877), stroke 2, (0.3523218035697937, 0.41579222679138184), stroke 2, (0.47585365176200867, 0.4699937105178833), stroke 2, (0.34169864654541016, 0.41455507278442383), stroke 2, (0.4694708585739136, 0.46392929553985596), stroke 2, (0.3421631455421448, 0.4204028844833374), stroke 2, (0.4657817482948303, 0.4678279161453247), stroke 2, (0.3520965576171875, 0.4275333881378174), stroke 2, (0.4873895049095154, 0.45743703842163086), stroke 2, (0.3528381288051605, 0.4281342029571533), stroke 2, (0.4883185923099518, 0.46137356758117676), stroke 2, (0.35167884826660156, 0.43035459518432617), stroke 2, (0.48608145117759705, 0.46552348136901855), stroke 2, (0.3520641624927521, 0.42670750617980957), stroke 2, (0.4881993532180786, 0.45821142196655273), stroke 2, (0.3528626263141632, 0.42853760719299316), stroke 2, (0.4846213757991791, 0.46217846870422363), stroke 2, (0.354583203792572, 0.4366645812988281), stroke 2, (0.4864111542701721, 0.4801824986934662), stroke 2, (0.3538563549518585, 0.4301002025604248), stroke 2, (0.48442313075065613, 0.4723130464553833), stroke 2, (0.3544251620769501, 0.4318664073944092), stroke 2, (0.4815117418766022, 0.46884262561798096), stroke 2, (0.35592710971832275, 0.42955565452575684), stroke 2, (0.4833129048347473, 0.4616192579269409), stroke 2, (0.33995041251182556, 0.4342712163925171), stroke 2, (0.3710877299308777, 0.5095822811126709), stroke 2, (0.3403482735157013, 0.43579840660095215), stroke 2, (0.37035542726516724, 0.5156645774841309), stroke 2, (0.351852148771286, 0.4283726215362549), stroke 2, (0.476275235414505, 0.474592924118042), stroke 2, (0.35331979393959045, 0.42662155628204346), stroke 2, (0.4743213653564453, 0.47754883766174316), stroke 2, (0.3530670404434204, 0.4299732446670532), stroke 2, (0.47616511583328247, 0.4770808517932892), stroke 2, (0.35394859313964844, 0.4174741506576538), stroke 2, (0.48072317242622375, 0.4670010805130005), stroke 2, (0.3521820604801178, 0.4293086528778076), stroke 2, (0.47581228613853455, 0.47143447399139404), stroke 2, (0.3846067190170288, 0.4305124282836914), stroke 2, (0.5461747646331787, 0.45055055618286133), stroke 2, (0.38332873582839966, 0.4290964603424072), stroke 2, (0.5449915528297424, 0.45084500312805176), stroke 2, (0.3827399015426636, 0.42740797996520996), stroke 2, (0.54532790184021, 0.44844627380371094), stroke 2, (0.38396599888801575, 0.42410898208618164), stroke 2, (0.5475019812583923, 0.44338154792785645), stroke 2, (0.3787286877632141, 0.43482232093811035), stroke 2, (0.5401875376701355, 0.45345306396484375), stroke 2, (0.38025662302970886, 0.4301941394805908), stroke 2, (0.5399749279022217, 0.4530293941497803), stroke 2, (0.3488391041755676, 0.4339275360107422), stroke 2, (0.47488048672676086, 0.4545910358428955), stroke 2, (0.34810954332351685, 0.4319570064544678), stroke 2, (0.47022002935409546, 0.4642599821090698), stroke 2, (0.3503999710083008, 0.4412268400192261), stroke 2, (0.4833157956600189, 0.466768741607666), stroke 2, (0.3494652509689331, 0.4318884611129761), stroke 2, (0.47463324666023254, 0.4561425447463989), stroke 2, (0.35541531443595886, 0.4275689125061035), stroke 2, (0.478543221950531, 0.4781346023082733), stroke 2, (0.3539494574069977, 0.42461347579956055), stroke 2, (0.47853028774261475, 0.47417935729026794), stroke 2, (0.3533957302570343, 0.426544189453125), stroke 2, (0.4788713753223419, 0.4753279387950897), stroke 2, (0.35533422231674194, 0.4316788911819458), stroke 2, (0.47686415910720825, 0.48948970437049866), stroke 2, (0.3538937568664551, 0.43635475635528564), stroke 2, (0.4782784581184387, 0.4927389621734619), stroke 2, (0.35423916578292847, 0.43198227882385254), stroke 2, (0.47439661622047424, 0.488334983587265), stroke 2, (0.35189545154571533, 0.4265282154083252), stroke 2, (0.47568947076797485, 0.4865674078464508), stroke 2, (0.35712432861328125, 0.4388415813446045), stroke 2, (0.49056240916252136, 0.4976339340209961), stroke 2, (0.3553043603897095, 0.44266414642333984), stroke 2, (0.48338571190834045, 0.499068021774292), stroke 2, (0.35613659024238586, 0.4448866844177246), stroke 2, (0.4854169487953186, 0.4996798038482666), stroke 2, (0.3594236969947815, 0.4381217956542969), stroke 2, (0.4869688153266907, 0.49636808037757874), stroke 2, (0.356281578540802, 0.45073366165161133), stroke 2, (0.4828607738018036, 0.5054877996444702), stroke 2, (0.3573213219642639, 0.4287421703338623), stroke 2, (0.4898926615715027, 0.47058844566345215), stroke 2, (0.35591405630111694, 0.43454790115356445), stroke 2, (0.4831627905368805, 0.4797029197216034), stroke 2, (0.3571930527687073, 0.4451167583465576), stroke 2, (0.48459672927856445, 0.493208646774292), stroke 2, (0.3569446802139282, 0.43938493728637695), stroke 2, (0.4832456707954407, 0.48818132281303406), stroke 2, (0.355129212141037, 0.42969655990600586), stroke 2, (0.4748629927635193, 0.48731186985969543), stroke 2, (0.34785205125808716, 0.44315481185913086), stroke 2, (0.4712640941143036, 0.5016000270843506), stroke 2, (0.3471175730228424, 0.44227170944213867), stroke 2, (0.4688810408115387, 0.49886298179626465), stroke 2, (0.3495100140571594, 0.4328329563140869), stroke 2, (0.46737125515937805, 0.486814022064209), stroke 2, (0.3509460985660553, 0.43654561042785645), stroke 2, (0.47799280285835266, 0.4856443703174591), stroke 2, (0.35071665048599243, 0.440169095993042), stroke 2, (0.4772596061229706, 0.4908912479877472), stroke 2, (0.3508793115615845, 0.43999242782592773), stroke 2, (0.4726603627204895, 0.4867747128009796), stroke 2, (0.35279369354248047, 0.4369509220123291), stroke 2, (0.48127827048301697, 0.4837512969970703), stroke 2, (0.3470611572265625, 0.4473923444747925), stroke 2, (0.467176616191864, 0.5000948905944824), stroke 2, (0.34790289402008057, 0.4457443952560425), stroke 2, (0.4619941711425781, 0.5055618286132812), stroke 2, (0.3489868938922882, 0.4512050151824951), stroke 2, (0.4703909158706665, 0.5092397928237915), stroke 2, (0.34790128469467163, 0.43546390533447266), stroke 2, (0.470907062292099, 0.4854743778705597), stroke 2, (0.3490842282772064, 0.4339427947998047), stroke 2, (0.474613755941391, 0.48328539729118347), stroke 2, (0.35270223021507263, 0.4443511962890625), stroke 2, (0.47865909337997437, 0.490376740694046), stroke 2, (0.350534051656723, 0.44668126106262207), stroke 2, (0.4810839593410492, 0.4940800368785858), stroke 2, (0.3480835556983948, 0.4362647533416748), stroke 2, (0.4671185314655304, 0.5028985738754272), stroke 2, (0.3493838310241699, 0.4364340305328369), stroke 2, (0.4666018784046173, 0.4987734854221344), stroke 2, (0.3480707108974457, 0.4357888698577881), stroke 2, (0.47049781680107117, 0.4980461299419403), stroke 2, (0.3500097393989563, 0.43888914585113525), stroke 2, (0.46939897537231445, 0.4970693588256836), stroke 2, (0.3493407964706421, 0.43891215324401855), stroke 2, (0.46947601437568665, 0.5010576248168945), stroke 2, (0.3548705279827118, 0.42265844345092773), stroke 2, (0.47941434383392334, 0.46908044815063477), stroke 2, (0.3516683578491211, 0.4308815002441406), stroke 2, (0.4778439700603485, 0.46933484077453613), stroke 2]]\n"
     ]
    }
   ],
   "source": [
    "classes = []\n",
    "vid = \"Poses/Nodding.flv\"\n",
    "pts = getPoints(vid)\n",
    "tmp = Template('yes' ,pts)\n",
    "classes.append(tmp)\n",
    "\n",
    "vid = \"Poses/Shaking_head1.flv\" \n",
    "pts = getPoints(vid)\n",
    "tmp = Template('no' ,pts)\n",
    "classes.append(tmp)\n",
    "\n",
    "vid = \"Poses/Shaking_head2.flv\"\n",
    "pts = getPoints(vid)\n",
    "tmp = Template('no' ,pts)\n",
    "classes.append(tmp)\n",
    "\n",
    "print(classes)"
   ]
  },
  {
   "cell_type": "code",
   "execution_count": null,
   "id": "76bba5dc-c94d-484a-aae8-61783893c1c0",
   "metadata": {},
   "outputs": [],
   "source": [
    "vid = \"Poses/Test.mkv\"\n",
    "pts = getPoints(vid)\n",
    "\n",
    "import time\n",
    "start = time.time()\n",
    "reco = Recognizer(classes)\n",
    "predicted = reco.recognize(pts)\n",
    "print(start)\n",
    "print(predicted)\n",
    "\n",
    "vid = \"Poses/Test2.mkv\"\n",
    "pts = getPoints(vid)\n",
    "\n",
    "import time\n",
    "start = time.time()\n",
    "reco = Recognizer(classes)\n",
    "predicted = reco.recognize(pts)\n",
    "print(start)\n",
    "print(predicted)"
   ]
  },
  {
   "cell_type": "code",
   "execution_count": 6,
   "id": "12c2d25c",
   "metadata": {},
   "outputs": [
    {
     "name": "stdout",
     "output_type": "stream",
     "text": [
      "Requirement already satisfied: imutils in d:\\software\\anaconda3\\lib\\site-packages (0.5.4)\n"
     ]
    }
   ],
   "source": [
    "!pip install imutils"
   ]
  },
  {
   "cell_type": "code",
   "execution_count": 2,
   "id": "b2664114",
   "metadata": {},
   "outputs": [],
   "source": [
    "# import the necessary packages\n",
    "from collections import deque\n",
    "from imutils.video import VideoStream\n",
    "import numpy as np\n",
    "import argparse\n",
    "import cv2\n",
    "import imutils\n",
    "import time"
   ]
  },
  {
   "cell_type": "code",
   "execution_count": 3,
   "id": "a2537e39",
   "metadata": {
    "scrolled": true
   },
   "outputs": [
    {
     "name": "stdout",
     "output_type": "stream",
     "text": [
      "BGR of Green: [[[ 22 183 232]]]\n",
      "HSV of Green: [[[ 23 231 232]]]\n",
      "Lower Limit: (13, 100, 100)\n",
      "Upper Limit (33, 255, 255)\n"
     ]
    }
   ],
   "source": [
    "# define a numpy.ndarray for the color\n",
    "# here insert the bgr values which you want to convert to hsv\n",
    "Color = np.uint8([[[22, 183, 232]]])\n",
    "\n",
    "# convert the color to HSV\n",
    "hsvColor = cv2.cvtColor(Color, cv2.COLOR_BGR2HSV)\n",
    "\n",
    "# display the color values\n",
    "print(\"BGR of Green:\", Color)\n",
    "print(\"HSV of Green:\", hsvColor)\n",
    "\n",
    "# Compute the lower and upper limits\n",
    "lowerLimit = hsvColor[0][0][0] - 10, 100, 100\n",
    "upperLimit = hsvColor[0][0][0] + 10, 255, 255\n",
    "\n",
    "# display the lower and upper limits\n",
    "print(\"Lower Limit:\",lowerLimit)\n",
    "print(\"Upper Limit\", upperLimit)"
   ]
  },
  {
   "cell_type": "code",
   "execution_count": 4,
   "id": "dba4e04f",
   "metadata": {},
   "outputs": [],
   "source": [
    "videoPath = \"Tracking/Tracking.mkv\"\n"
   ]
  },
  {
   "cell_type": "code",
   "execution_count": 6,
   "id": "6277d50f",
   "metadata": {},
   "outputs": [
    {
     "name": "stdout",
     "output_type": "stream",
     "text": [
      "< cv2.VideoCapture 0000026C82553810>\n",
      "(False, None)\n"
     ]
    },
    {
     "ename": "AttributeError",
     "evalue": "'tuple' object has no attribute 'shape'",
     "output_type": "error",
     "traceback": [
      "\u001b[1;31m---------------------------------------------------------------------------\u001b[0m",
      "\u001b[1;31mAttributeError\u001b[0m                            Traceback (most recent call last)",
      "\u001b[1;32m~\\AppData\\Local\\Temp/ipykernel_12304/910822959.py\u001b[0m in \u001b[0;36m<module>\u001b[1;34m\u001b[0m\n\u001b[0;32m     36\u001b[0m     \u001b[1;31m# resize the frame, blur it, and convert it to the HSV\u001b[0m\u001b[1;33m\u001b[0m\u001b[1;33m\u001b[0m\u001b[0m\n\u001b[0;32m     37\u001b[0m     \u001b[1;31m# color space\u001b[0m\u001b[1;33m\u001b[0m\u001b[1;33m\u001b[0m\u001b[0m\n\u001b[1;32m---> 38\u001b[1;33m     \u001b[0mframe\u001b[0m \u001b[1;33m=\u001b[0m \u001b[0mimutils\u001b[0m\u001b[1;33m.\u001b[0m\u001b[0mresize\u001b[0m\u001b[1;33m(\u001b[0m\u001b[0mframe\u001b[0m\u001b[1;33m,\u001b[0m \u001b[0mwidth\u001b[0m\u001b[1;33m=\u001b[0m\u001b[1;36m200\u001b[0m\u001b[1;33m)\u001b[0m\u001b[1;33m\u001b[0m\u001b[1;33m\u001b[0m\u001b[0m\n\u001b[0m\u001b[0;32m     39\u001b[0m     \u001b[0mblurred\u001b[0m \u001b[1;33m=\u001b[0m \u001b[0mcv2\u001b[0m\u001b[1;33m.\u001b[0m\u001b[0mGaussianBlur\u001b[0m\u001b[1;33m(\u001b[0m\u001b[0mframe\u001b[0m\u001b[1;33m,\u001b[0m \u001b[1;33m(\u001b[0m\u001b[1;36m11\u001b[0m\u001b[1;33m,\u001b[0m \u001b[1;36m11\u001b[0m\u001b[1;33m)\u001b[0m\u001b[1;33m,\u001b[0m \u001b[1;36m0\u001b[0m\u001b[1;33m)\u001b[0m\u001b[1;33m\u001b[0m\u001b[1;33m\u001b[0m\u001b[0m\n\u001b[0;32m     40\u001b[0m     \u001b[0mhsv\u001b[0m \u001b[1;33m=\u001b[0m \u001b[0mcv2\u001b[0m\u001b[1;33m.\u001b[0m\u001b[0mcvtColor\u001b[0m\u001b[1;33m(\u001b[0m\u001b[0mblurred\u001b[0m\u001b[1;33m,\u001b[0m \u001b[0mcv2\u001b[0m\u001b[1;33m.\u001b[0m\u001b[0mCOLOR_BGR2HSV\u001b[0m\u001b[1;33m)\u001b[0m\u001b[1;33m\u001b[0m\u001b[1;33m\u001b[0m\u001b[0m\n",
      "\u001b[1;32mD:\\software\\anaconda3\\lib\\site-packages\\imutils\\convenience.py\u001b[0m in \u001b[0;36mresize\u001b[1;34m(image, width, height, inter)\u001b[0m\n\u001b[0;32m     67\u001b[0m     \u001b[1;31m# grab the image size\u001b[0m\u001b[1;33m\u001b[0m\u001b[1;33m\u001b[0m\u001b[0m\n\u001b[0;32m     68\u001b[0m     \u001b[0mdim\u001b[0m \u001b[1;33m=\u001b[0m \u001b[1;32mNone\u001b[0m\u001b[1;33m\u001b[0m\u001b[1;33m\u001b[0m\u001b[0m\n\u001b[1;32m---> 69\u001b[1;33m     \u001b[1;33m(\u001b[0m\u001b[0mh\u001b[0m\u001b[1;33m,\u001b[0m \u001b[0mw\u001b[0m\u001b[1;33m)\u001b[0m \u001b[1;33m=\u001b[0m \u001b[0mimage\u001b[0m\u001b[1;33m.\u001b[0m\u001b[0mshape\u001b[0m\u001b[1;33m[\u001b[0m\u001b[1;33m:\u001b[0m\u001b[1;36m2\u001b[0m\u001b[1;33m]\u001b[0m\u001b[1;33m\u001b[0m\u001b[1;33m\u001b[0m\u001b[0m\n\u001b[0m\u001b[0;32m     70\u001b[0m \u001b[1;33m\u001b[0m\u001b[0m\n\u001b[0;32m     71\u001b[0m     \u001b[1;31m# if both the width and height are None, then return the\u001b[0m\u001b[1;33m\u001b[0m\u001b[1;33m\u001b[0m\u001b[0m\n",
      "\u001b[1;31mAttributeError\u001b[0m: 'tuple' object has no attribute 'shape'"
     ]
    }
   ],
   "source": [
    "# construct the argument parse and parse the arguments\n",
    "#ap = argparse.ArgumentParser()\n",
    "#ap.add_argument(\"-v\", \"--video\",\n",
    "#    help=\"path to the (optional) video file\")\n",
    "#ap.add_argument(\"-b\", \"--buffer\", type=int, default=64,\n",
    "#    help=\"max buffer size\")\n",
    "#args = vars(ap.parse_args())\n",
    "# define the lower and upper boundaries of the Color\n",
    "# in the HSV color space, then initialize the\n",
    "# list of tracked points\n",
    "ColorLower = (lowerLimit[0],lowerLimit[1],lowerLimit[2])\n",
    "ColorUpper = (upperLimit[0],upperLimit[1],upperLimit[2])\n",
    "pts = deque(maxlen=len(videoPath))\n",
    "# if a video path was not supplied, grab the reference\n",
    "# to the webcam\n",
    "if videoPath == None:\n",
    "    vs = VideoStream(src=0).start()\n",
    "    print(vs)\n",
    "    # otherwise, grab a reference to the video file\n",
    "else:\n",
    "    vs = cv2.VideoCapture(videoPath)\n",
    "    print(vs)\n",
    "    # allow the camera or video file to warm up\n",
    "    time.sleep(2.0)\n",
    "    # keep looping\n",
    "while True:\n",
    "    # grab the current frame\n",
    "    frame = vs.read()\n",
    "    print(frame)\n",
    "    # handle the frame from VideoCapture or VideoStream\n",
    "    frame = frame[1] if videoPath == None else frame\n",
    "    # if we are viewing a video and we did not grab a frame,\n",
    "    # then we have reached the end of the video\n",
    "    if frame is None:\n",
    "        break\n",
    "    # resize the frame, blur it, and convert it to the HSV\n",
    "    # color space\n",
    "    frame = imutils.resize(frame, width=200)\n",
    "    blurred = cv2.GaussianBlur(frame, (11, 11), 0)\n",
    "    hsv = cv2.cvtColor(blurred, cv2.COLOR_BGR2HSV)\n",
    "    # construct a mask for the color \"green\", then perform\n",
    "    # a series of dilations and erosions to remove any small\n",
    "    # blobs left in the mask\n",
    "    mask = cv2.inRange(hsv, ColorLower, ColorUpper)\n",
    "    mask = cv2.erode(mask, None, iterations=2)\n",
    "    mask = cv2.dilate(mask, None, iterations=2)\n",
    "    # find contours in the mask and initialize the current\n",
    "    # (x, y) center of the ball\n",
    "    cnts = cv2.findContours(mask.copy(), cv2.RETR_EXTERNAL,\n",
    "        cv2.CHAIN_APPROX_SIMPLE)\n",
    "    cnts = imutils.grab_contours(cnts)\n",
    "    center = None\n",
    "    # only proceed if at least one contour was found\n",
    "    if len(cnts) > 0:\n",
    "        # find the largest contour in the mask, then use\n",
    "        # it to compute the minimum enclosing circle and\n",
    "        # centroid\n",
    "        c = max(cnts, key=cv2.contourArea)\n",
    "        ((x, y), radius) = cv2.minEnclosingCircle(c)\n",
    "        M = cv2.moments(c)\n",
    "        center = (int(M[\"m10\"] / M[\"m00\"]), int(M[\"m01\"] / M[\"m00\"]))\n",
    "        # only proceed if the radius meets a minimum size\n",
    "        if radius > 10:\n",
    "            # draw the circle and centroid on the frame,\n",
    "            # then update the list of tracked points\n",
    "            cv2.circle(frame, (int(x), int(y)), int(radius),\n",
    "                (0, 255, 255), 2)\n",
    "            cv2.circle(frame, center, 5, (0, 0, 255), -1)\n",
    "    # update the points queue\n",
    "    pts.appendleft(center)\n",
    "    # loop over the set of tracked points\n",
    "    for i in range(1, len(pts)):\n",
    "        # if either of the tracked points are None, ignore\n",
    "        # them\n",
    "        if pts[i - 1] is None or pts[i] is None:\n",
    "            continue\n",
    "        # otherwise, compute the thickness of the line and\n",
    "        # draw the connecting lines\n",
    "        thickness = int(np.sqrt(args[\"buffer\"] / float(i + 1)) * 2.5)\n",
    "        cv2.line(frame, pts[i - 1], pts[i], (0, 0, 255), thickness)\n",
    "    # show the frame to our screen\n",
    "    cv2.imshow(\"Frame\", frame)\n",
    "    key = cv2.waitKey(1) & 0xFF\n",
    "    # if the 'q' key is pressed, stop the loop\n",
    "    if key == ord(\"q\"):\n",
    "           break\n",
    "  # if we are not using a video file, stop the camera video stream\n",
    "    if videoPath == None:\n",
    "         vs.stop()\n",
    "    # otherwise, release the camera\n",
    "    else:\n",
    "        vs.release()\n",
    "# close all windows\n",
    "cv2.destroyAllWindows()"
   ]
  },
  {
   "cell_type": "code",
   "execution_count": 13,
   "id": "88d528dd",
   "metadata": {},
   "outputs": [
    {
     "name": "stdout",
     "output_type": "stream",
     "text": [
      "1669195583.0903769\n",
      "[]\n"
     ]
    }
   ],
   "source": []
  },
  {
   "cell_type": "code",
   "execution_count": null,
   "id": "a8f224c3",
   "metadata": {},
   "outputs": [],
   "source": []
  }
 ],
 "metadata": {
  "kernelspec": {
   "display_name": "Python 3 (ipykernel)",
   "language": "python",
   "name": "python3"
  },
  "language_info": {
   "codemirror_mode": {
    "name": "ipython",
    "version": 3
   },
   "file_extension": ".py",
   "mimetype": "text/x-python",
   "name": "python",
   "nbconvert_exporter": "python",
   "pygments_lexer": "ipython3",
   "version": "3.9.7"
  }
 },
 "nbformat": 4,
 "nbformat_minor": 5
}
